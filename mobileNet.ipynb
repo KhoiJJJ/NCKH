{
 "cells": [
  {
   "cell_type": "code",
   "execution_count": null,
   "metadata": {
    "vscode": {
     "languageId": "plaintext"
    }
   },
   "outputs": [],
   "source": [
    "# Import thư viện\n",
    "import os\n",
    "import numpy as np\n",
    "import librosa\n",
    "import tensorflow as tf\n",
    "from tensorflow.keras.models import Model\n",
    "from tensorflow.keras.layers import Input, Dense, GlobalAveragePooling2D, Reshape\n",
    "from tensorflow.keras.applications import MobileNet\n",
    "from sklearn.preprocessing import LabelEncoder, StandardScaler\n",
    "from sklearn.model_selection import train_test_split\n",
    "from tensorflow.keras.utils import to_categorical"
   ]
  },
  {
   "cell_type": "code",
   "execution_count": null,
   "metadata": {
    "vscode": {
     "languageId": "plaintext"
    }
   },
   "outputs": [],
   "source": [
    "# Hàm trích xuất đặc trưng MFCC\n",
    "def extract_mfcc(audio, sr=16000, n_mfcc=40):\n",
    "    hop_length = int(0.01 * sr)  # 10 ms\n",
    "    win_length = int(0.025 * sr)  # 25 ms\n",
    "    mfcc = librosa.feature.mfcc(y=audio, sr=sr, n_mfcc=n_mfcc, hop_length=hop_length, win_length=win_length)\n",
    "    return mfcc\n",
    "\n",
    "# Hàm load dữ liệu từ thư mục\n",
    "def load_data(data_dir, sr=16000, n_mfcc=40):\n",
    "    X, y = [], []\n",
    "    labels = os.listdir(data_dir)\n",
    "    for label in labels:\n",
    "        label_dir = os.path.join(data_dir, label)\n",
    "        if os.path.isdir(label_dir):\n",
    "            for file in os.listdir(label_dir):\n",
    "                if file.endswith('.wav'):\n",
    "                    file_path = os.path.join(label_dir, file)\n",
    "                    audio, _ = librosa.load(file_path, sr=sr)\n",
    "                    mfcc = extract_mfcc(audio, sr, n_mfcc)\n",
    "                    mfcc = np.expand_dims(mfcc, axis=-1)  # Thêm channel cho MobileNet\n",
    "                    X.append(mfcc)\n",
    "                    y.append(label)\n",
    "    return np.array(X), np.array(y)"
   ]
  },
  {
   "cell_type": "code",
   "execution_count": null,
   "metadata": {
    "vscode": {
     "languageId": "plaintext"
    }
   },
   "outputs": [],
   "source": [
    "# Load dữ liệu\n",
    "train_dir = r'C:\\Users\\USER\\Downloads\\SV_NCKH_audio_event\\Train'\n",
    "test_dir = r'C:\\Users\\USER\\Downloads\\SV_NCKH_audio_event\\Test'\n",
    "\n",
    "print(\"Loading training data...\")\n",
    "X_train, y_train = load_data(train_dir)\n",
    "print(\"Loading testing data...\")\n",
    "X_test, y_test = load_data(test_dir)\n",
    "\n",
    "# Chuẩn hóa dữ liệu\n",
    "scaler = StandardScaler()\n",
    "X_train = np.array([scaler.fit_transform(x[:, :, 0]) for x in X_train])  # Normalize MFCC\n",
    "X_test = np.array([scaler.transform(x[:, :, 0]) for x in X_test])\n",
    "\n",
    "# Định dạng lại dữ liệu thành 4D cho MobileNet\n",
    "X_train = np.expand_dims(X_train, axis=-1)  # (samples, height, width, channels)\n",
    "X_test = np.expand_dims(X_test, axis=-1)\n",
    "\n",
    "# Encode nhãn\n",
    "le = LabelEncoder()\n",
    "y_train = le.fit_transform(y_train)\n",
    "y_test = le.transform(y_test)\n",
    "\n",
    "# Chuyển nhãn sang dạng one-hot\n",
    "num_classes = len(np.unique(y_train))\n",
    "y_train = to_categorical(y_train, num_classes=num_classes)\n",
    "y_test = to_categorical(y_test, num_classes=num_classes)\n"
   ]
  },
  {
   "cell_type": "code",
   "execution_count": null,
   "metadata": {
    "vscode": {
     "languageId": "plaintext"
    }
   },
   "outputs": [],
   "source": [
    "# Xây dựng mô hình MobileNet\n",
    "def create_mobilenet_model(input_shape, num_classes):\n",
    "    base_model = MobileNet(weights=None, include_top=False, input_shape=input_shape)\n",
    "    x = base_model.output\n",
    "    x = GlobalAveragePooling2D()(x)\n",
    "    x = Dense(128, activation='relu')(x)  # Thêm lớp ẩn tùy chỉnh\n",
    "    output = Dense(num_classes, activation='softmax')(x)  # Lớp đầu ra\n",
    "    model = Model(inputs=base_model.input, outputs=output)\n",
    "    model.compile(optimizer='adam', loss='categorical_crossentropy', metrics=['accuracy'])\n",
    "    return model\n",
    "\n",
    "# Khởi tạo mô hình\n",
    "input_shape = X_train.shape[1:]  # Dạng dữ liệu (height, width, channels)\n",
    "model = create_mobilenet_model(input_shape, num_classes)\n",
    "\n",
    "# Huấn luyện mô hình\n",
    "print(\"Training MobileNet model...\")\n",
    "history = model.fit(X_train, y_train, validation_data=(X_test, y_test), epochs=30, batch_size=32)\n",
    "\n",
    "# Đánh giá mô hình\n",
    "test_loss, test_acc = model.evaluate(X_test, y_test)\n",
    "print(f\"Test Accuracy: {test_acc:.4f}\")\n",
    "\n",
    "# Hiển thị kiến trúc mô hình\n",
    "model.summary()"
   ]
  }
 ],
 "metadata": {
  "language_info": {
   "name": "python"
  }
 },
 "nbformat": 4,
 "nbformat_minor": 2
}
