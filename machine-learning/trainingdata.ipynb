{
 "cells": [
  {
   "cell_type": "code",
   "execution_count": 12,
   "metadata": {},
   "outputs": [],
   "source": [
    "import os\n",
    "import librosa\n",
    "import numpy as np\n",
    "from sklearn.svm import SVC\n",
    "from sklearn.preprocessing import StandardScaler\n",
    "from sklearn.model_selection import GridSearchCV\n",
    "from sklearn.metrics import accuracy_score, classification_report\n",
    "from sklearn.svm import SVC\n",
    "from sklearn.metrics import ConfusionMatrixDisplay, confusion_matrix\n",
    "import matplotlib.pyplot as plt\n",
    "from sklearn.preprocessing import StandardScaler"
   ]
  },
  {
   "cell_type": "code",
   "execution_count": 13,
   "metadata": {},
   "outputs": [],
   "source": [
    "def extract_mfcc_with_deltas(audio, sr=16000, n_mfcc=13):\n",
    "    \"\"\"\n",
    "    Extract MFCCs, delta, and delta-delta features from an audio signal.\n",
    "    \"\"\"\n",
    "    hop_length = int(0.01 * sr)  # 10 ms hop length\n",
    "    win_length = int(0.025 * sr)  # 25 ms window length\n",
    "    \n",
    "    # Calculate MFCCs (including the 0th coefficient)\n",
    "    mfccs = librosa.feature.mfcc(y=audio, sr=sr, n_mfcc=n_mfcc, hop_length=hop_length, win_length=win_length, window='hamming')\n",
    "    \n",
    "    # Calculate log energy feature\n",
    "    # energy = np.log(np.sum(librosa.feature.rms(y=audio, hop_length=hop_length)**2, axis=0))\n",
    "    \n",
    "    # Append log energy as the 0th feature\n",
    "    # mfccs[0, :] = energy\n",
    "    \n",
    "    # Compute the deltas (first derivative)\n",
    "    mfcc_delta = librosa.feature.delta(mfccs)\n",
    "    \n",
    "    # Compute delta-delta (second derivative)\n",
    "    mfcc_delta2 = librosa.feature.delta(mfccs, order=2)\n",
    "    \n",
    "    # Stack MFCCs, delta, and delta-delta features\n",
    "    mfcc_combined = np.vstack([mfccs, mfcc_delta, mfcc_delta2])\n",
    "    \n",
    "    return mfcc_combined"
   ]
  },
  {
   "cell_type": "code",
   "execution_count": 14,
   "metadata": {},
   "outputs": [],
   "source": [
    "def load_and_extract_features_from_folders(base_dir, sr=16000, n_mfcc=13):\n",
    "    audio_features = []\n",
    "    labels = []\n",
    "    \n",
    "    # Iterate over each folder in the base directory\n",
    "    for class_label in os.listdir(base_dir):\n",
    "        class_dir = os.path.join(base_dir, class_label)\n",
    "        \n",
    "        # Check if it is a directory (i.e., class folder)\n",
    "        if os.path.isdir(class_dir):\n",
    "            for file_name in os.listdir(class_dir):\n",
    "                file_path = os.path.join(class_dir, file_name)\n",
    "                \n",
    "                # Check if it's an audio file\n",
    "                if file_name.endswith('.wav') or file_name.endswith('.mp3'):\n",
    "                    try:\n",
    "                        # Load the audio file\n",
    "                        audio, sr = librosa.load(file_path, sr=sr)\n",
    "                        \n",
    "                        # Extract MFCCs with delta and delta-delta\n",
    "                        mfcc_features = extract_mfcc_with_deltas(audio, sr, n_mfcc)\n",
    "                        \n",
    "                        # Flatten the MFCC features for SVM input\n",
    "                        mfcc_flattened = mfcc_features.flatten()\n",
    "                        \n",
    "                        # Append the MFCC features and label to lists\n",
    "                        audio_features.append(mfcc_flattened)\n",
    "                        labels.append(class_label)\n",
    "                    except Exception as e:\n",
    "                        print(f\"Error processing {file_path}: {e}\")\n",
    "    \n",
    "    return np.array(audio_features), np.array(labels)"
   ]
  },
  {
   "cell_type": "code",
   "execution_count": null,
   "metadata": {},
   "outputs": [],
   "source": [
    "def train_and_test_svm(train_dir, test_dir, sr=16000, n_mfcc=13):\n",
    "    # Load training data\n",
    "    print(\"Loading training data...\")\n",
    "    X_train, y_train = load_and_extract_features_from_folders(train_dir, sr, n_mfcc)\n",
    "    \n",
    "    # Load testing data\n",
    "    print(\"Loading testing data...\")\n",
    "    X_test, y_test = load_and_extract_features_from_folders(test_dir, sr, n_mfcc)\n",
    "    \n",
    "    # Standardize the features\n",
    "    scaler = StandardScaler()\n",
    "    X_train = scaler.fit_transform(X_train)\n",
    "    X_test = scaler.transform(X_test)\n",
    "    \n",
    "    # Train SVM classifier\n",
    "    print(\"Training SVM model...\")\n",
    "    svm = SVC(kernel='rbf')  # You can change the kernel type and parameters\n",
    "    svm.fit(X_train, y_train)\n",
    "    \n",
    "    # Make predictions on the test set\n",
    "    print(\"Testing SVM model...\")\n",
    "    y_pred = svm.predict(X_test)\n",
    "    \n",
    "    # Evaluate the model\n",
    "    accuracy = accuracy_score(y_test, y_pred)\n",
    "    report = classification_report(y_test, y_pred)\n",
    "    \n",
    "    print(f\"Accuracy: {accuracy:.4f}\")\n",
    "    print(\"Classification Report:\")\n",
    "    print(report)\n"
   ]
  },
  {
   "cell_type": "code",
   "execution_count": 16,
   "metadata": {},
   "outputs": [
    {
     "name": "stdout",
     "output_type": "stream",
     "text": [
      "Loading training data...\n",
      "Loading testing data...\n",
      "Training SVM model...\n",
      "Testing SVM model...\n",
      "Accuracy: 0.5720\n",
      "Classification Report:\n",
      "              precision    recall  f1-score   support\n",
      "\n",
      "      Sound0       0.88      0.21      0.34        67\n",
      "      Sound1       0.55      0.14      0.22        44\n",
      "     Sound10       0.52      0.97      0.67        64\n",
      "     Sound11       0.61      0.43      0.50        47\n",
      "     Sound12       0.00      0.00      0.00        14\n",
      "     Sound13       1.00      0.96      0.98        51\n",
      "     Sound14       0.71      1.00      0.83        30\n",
      "     Sound15       0.00      0.00      0.00         2\n",
      "     Sound16       0.03      0.02      0.02        66\n",
      "     Sound17       0.37      0.83      0.51        64\n",
      "     Sound18       0.00      0.00      0.00         8\n",
      "     Sound19       0.00      0.00      0.00        23\n",
      "      Sound2       1.00      0.93      0.96        55\n",
      "     Sound20       0.52      0.78      0.63        46\n",
      "      Sound3       1.00      0.93      0.97        15\n",
      "      Sound4       0.56      0.92      0.70        88\n",
      "      Sound5       0.00      0.00      0.00         5\n",
      "      Sound6       0.00      0.00      0.00         6\n",
      "      Sound7       0.00      0.00      0.00        23\n",
      "      Sound8       0.00      0.00      0.00         6\n",
      "      Sound9       0.00      0.00      0.00         5\n",
      "\n",
      "    accuracy                           0.57       729\n",
      "   macro avg       0.37      0.39      0.35       729\n",
      "weighted avg       0.53      0.57      0.50       729\n",
      "\n"
     ]
    },
    {
     "name": "stderr",
     "output_type": "stream",
     "text": [
      "C:\\Users\\USER\\AppData\\Local\\Packages\\PythonSoftwareFoundation.Python.3.9_qbz5n2kfra8p0\\LocalCache\\local-packages\\Python39\\site-packages\\sklearn\\metrics\\_classification.py:1344: UndefinedMetricWarning: Precision and F-score are ill-defined and being set to 0.0 in labels with no predicted samples. Use `zero_division` parameter to control this behavior.\n",
      "  _warn_prf(average, modifier, msg_start, len(result))\n",
      "C:\\Users\\USER\\AppData\\Local\\Packages\\PythonSoftwareFoundation.Python.3.9_qbz5n2kfra8p0\\LocalCache\\local-packages\\Python39\\site-packages\\sklearn\\metrics\\_classification.py:1344: UndefinedMetricWarning: Precision and F-score are ill-defined and being set to 0.0 in labels with no predicted samples. Use `zero_division` parameter to control this behavior.\n",
      "  _warn_prf(average, modifier, msg_start, len(result))\n",
      "C:\\Users\\USER\\AppData\\Local\\Packages\\PythonSoftwareFoundation.Python.3.9_qbz5n2kfra8p0\\LocalCache\\local-packages\\Python39\\site-packages\\sklearn\\metrics\\_classification.py:1344: UndefinedMetricWarning: Precision and F-score are ill-defined and being set to 0.0 in labels with no predicted samples. Use `zero_division` parameter to control this behavior.\n",
      "  _warn_prf(average, modifier, msg_start, len(result))\n"
     ]
    }
   ],
   "source": [
    "# Example usage:\n",
    "train_directory = r'C:\\Users\\USER\\Downloads\\SV_NCKH_audio_event\\Train'\n",
    "test_directory = r'C:\\Users\\USER\\Downloads\\SV_NCKH_audio_event\\Test'\n",
    "\n",
    "# Find the optimal SVM model\n",
    "#best_svm_model = find_optimal_svm_parameters(train_directory)\n",
    "\n",
    "# Evaluate the best SVM model on the test data\n",
    "#evaluate_svm_on_test(best_svm_model, test_directory)\n",
    "train_and_test_svm(train_directory, test_directory, sr=16000, n_mfcc=13)"
   ]
  },
  {
   "cell_type": "code",
   "execution_count": null,
   "metadata": {},
   "outputs": [
    {
     "ename": "NameError",
     "evalue": "name 'X_train' is not defined",
     "output_type": "error",
     "traceback": [
      "\u001b[1;31m---------------------------------------------------------------------------\u001b[0m",
      "\u001b[1;31mNameError\u001b[0m                                 Traceback (most recent call last)",
      "Cell \u001b[1;32mIn[17], line 2\u001b[0m\n\u001b[0;32m      1\u001b[0m \u001b[38;5;66;03m# Làm phẳng dữ liệu\u001b[39;00m\n\u001b[1;32m----> 2\u001b[0m X_train_flat \u001b[38;5;241m=\u001b[39m \u001b[43mX_train\u001b[49m\u001b[38;5;241m.\u001b[39mreshape(X_train\u001b[38;5;241m.\u001b[39mshape[\u001b[38;5;241m0\u001b[39m], \u001b[38;5;241m-\u001b[39m\u001b[38;5;241m1\u001b[39m)\n\u001b[0;32m      3\u001b[0m X_test_flat \u001b[38;5;241m=\u001b[39m X_test\u001b[38;5;241m.\u001b[39mreshape(X_test\u001b[38;5;241m.\u001b[39mshape[\u001b[38;5;241m0\u001b[39m], \u001b[38;5;241m-\u001b[39m\u001b[38;5;241m1\u001b[39m)\n\u001b[0;32m      5\u001b[0m \u001b[38;5;66;03m# Chuẩn hóa dữ liệu\u001b[39;00m\n",
      "\u001b[1;31mNameError\u001b[0m: name 'X_train' is not defined"
     ]
    }
   ],
   "source": []
  }
 ],
 "metadata": {
  "kernelspec": {
   "display_name": "Python 3",
   "language": "python",
   "name": "python3"
  },
  "language_info": {
   "codemirror_mode": {
    "name": "ipython",
    "version": 3
   },
   "file_extension": ".py",
   "mimetype": "text/x-python",
   "name": "python",
   "nbconvert_exporter": "python",
   "pygments_lexer": "ipython3",
   "version": "3.9.13"
  }
 },
 "nbformat": 4,
 "nbformat_minor": 2
}
