{
 "cells": [
  {
   "cell_type": "code",
   "execution_count": null,
   "metadata": {
    "vscode": {
     "languageId": "plaintext"
    }
   },
   "outputs": [],
   "source": [
    "# Import thư viện\n",
    "import os\n",
    "import numpy as np\n",
    "import librosa\n",
    "import tensorflow as tf\n",
    "from sklearn.preprocessing import LabelEncoder, StandardScaler\n",
    "from tensorflow.keras.utils import to_categorical\n",
    "from tensorflow.keras.models import Model\n",
    "from tensorflow.keras.layers import Input, Dense, LayerNormalization, Dropout\n",
    "from tensorflow.keras.layers import Conv2D, Reshape, MultiHeadAttention, Flatten, GlobalAveragePooling1D"
   ]
  },
  {
   "cell_type": "code",
   "execution_count": null,
   "metadata": {
    "vscode": {
     "languageId": "plaintext"
    }
   },
   "outputs": [],
   "source": [
    "# Trích xuất đặc trưng MFCC\n",
    "def extract_mfcc(audio, sr=16000, n_mfcc=40):\n",
    "    hop_length = int(0.01 * sr)  # 10 ms\n",
    "    win_length = int(0.025 * sr)  # 25 ms\n",
    "    mfcc = librosa.feature.mfcc(y=audio, sr=sr, n_mfcc=n_mfcc, hop_length=hop_length, win_length=win_length)\n",
    "    return mfcc\n",
    "\n",
    "# Load dữ liệu từ thư mục\n",
    "def load_data(data_dir, sr=16000, n_mfcc=40):\n",
    "    X, y = [], []\n",
    "    for label in os.listdir(data_dir):\n",
    "        label_dir = os.path.join(data_dir, label)\n",
    "        if os.path.isdir(label_dir):\n",
    "            for file in os.listdir(label_dir):\n",
    "                if file.endswith('.wav'):\n",
    "                    file_path = os.path.join(label_dir, file)\n",
    "                    audio, _ = librosa.load(file_path, sr=sr)\n",
    "                    mfcc = extract_mfcc(audio, sr, n_mfcc)\n",
    "                    X.append(mfcc)\n",
    "                    y.append(label)\n",
    "    return np.array(X), np.array(y)\n"
   ]
  },
  {
   "cell_type": "code",
   "execution_count": null,
   "metadata": {
    "vscode": {
     "languageId": "plaintext"
    }
   },
   "outputs": [],
   "source": [
    "# Vision Transformer Block\n",
    "def transformer_block(inputs, num_heads, mlp_dim, dropout_rate=0.1):\n",
    "    # Multi-head Self Attention\n",
    "    x = LayerNormalization(epsilon=1e-6)(inputs)\n",
    "    x = MultiHeadAttention(num_heads=num_heads, key_dim=inputs.shape[-1])(x, x)\n",
    "    x = Dropout(dropout_rate)(x)\n",
    "    x = x + inputs  # Residual Connection\n",
    "\n",
    "    # MLP (Feedforward)\n",
    "    y = LayerNormalization(epsilon=1e-6)(x)\n",
    "    y = Dense(mlp_dim, activation='gelu')(y)\n",
    "    y = Dropout(dropout_rate)(y)\n",
    "    y = Dense(inputs.shape[-1])(y)\n",
    "    y = Dropout(dropout_rate)(y)\n",
    "    return x + y  # Residual Connection\n",
    "\n",
    "# Xây dựng mô hình Vision Transformer\n",
    "def build_vit(input_shape, num_classes, patch_size=4, num_patches=16, num_heads=4, mlp_dim=128, num_blocks=4):\n",
    "    inputs = Input(shape=input_shape)\n",
    "\n",
    "    # Chia thành các \"patches\"\n",
    "    x = Conv2D(filters=mlp_dim, kernel_size=patch_size, strides=patch_size, padding='valid')(inputs)\n",
    "    x = Reshape((num_patches, -1))(x)  # (batch_size, num_patches, embedding_dim)\n",
    "\n",
    "    # Thêm embedding của lớp học (class token)\n",
    "    cls_token = tf.Variable(tf.zeros((1, 1, mlp_dim)), trainable=True)\n",
    "    cls_tokens = tf.repeat(cls_token, repeats=tf.shape(x)[0], axis=0)\n",
    "    x = tf.concat([cls_tokens, x], axis=1)\n",
    "\n",
    "    # Transformer Encoder Blocks\n",
    "    for _ in range(num_blocks):\n",
    "        x = transformer_block(x, num_heads, mlp_dim)\n",
    "\n",
    "    # Classification Head\n",
    "    x = GlobalAveragePooling1D()(x)\n",
    "    outputs = Dense(num_classes, activation='softmax')(x)\n",
    "\n",
    "    model = Model(inputs, outputs)\n",
    "    model.compile(optimizer='adam', loss='categorical_crossentropy', metrics=['accuracy'])\n",
    "    return model\n"
   ]
  },
  {
   "cell_type": "code",
   "execution_count": null,
   "metadata": {
    "vscode": {
     "languageId": "plaintext"
    }
   },
   "outputs": [],
   "source": [
    "# Load dữ liệu\n",
    "train_dir = r'C:\\Users\\USER\\Downloads\\SV_NCKH_audio_event\\Train'\n",
    "test_dir = r'C:\\Users\\USER\\Downloads\\SV_NCKH_audio_event\\Test'\n",
    "\n",
    "print(\"Loading training data...\")\n",
    "X_train, y_train = load_data(train_dir)\n",
    "print(\"Loading testing data...\")\n",
    "X_test, y_test = load_data(test_dir)\n",
    "\n",
    "# Chuẩn hóa và chuẩn bị dữ liệu\n",
    "scaler = StandardScaler()\n",
    "X_train = np.array([scaler.fit_transform(x) for x in X_train])  # Normalize MFCC\n",
    "X_test = np.array([scaler.transform(x) for x in X_test])\n",
    "\n",
    "# Định dạng dữ liệu\n",
    "X_train = np.expand_dims(X_train, axis=-1)  # (batch_size, time, freq, 1)\n",
    "X_test = np.expand_dims(X_test, axis=-1)"
   ]
  },
  {
   "cell_type": "code",
   "execution_count": null,
   "metadata": {
    "vscode": {
     "languageId": "plaintext"
    }
   },
   "outputs": [],
   "source": [
    "# Encode nhãn\n",
    "le = LabelEncoder()\n",
    "y_train = le.fit_transform(y_train)\n",
    "y_test = le.transform(y_test)\n",
    "\n",
    "# Chuyển nhãn sang dạng one-hot\n",
    "num_classes = len(np.unique(y_train))\n",
    "y_train = to_categorical(y_train, num_classes=num_classes)\n",
    "y_test = to_categorical(y_test, num_classes=num_classes)\n",
    "\n",
    "# Xây dựng và huấn luyện mô hình Vision Transformer\n",
    "input_shape = X_train.shape[1:]  # Input shape (time, freq, 1)\n",
    "model = build_vit(input_shape, num_classes)\n",
    "\n",
    "print(\"Training Vision Transformer model...\")\n",
    "history = model.fit(X_train, y_train, validation_data=(X_test, y_test), epochs=30, batch_size=32)\n",
    "\n",
    "# Đánh giá mô hình\n",
    "test_loss, test_acc = model.evaluate(X_test, y_test)\n",
    "print(f\"Test Accuracy: {test_acc:.4f}\")\n",
    "\n",
    "# Hiển thị kiến trúc mô hình\n",
    "model.summary()"
   ]
  }
 ],
 "metadata": {
  "language_info": {
   "name": "python"
  }
 },
 "nbformat": 4,
 "nbformat_minor": 2
}
