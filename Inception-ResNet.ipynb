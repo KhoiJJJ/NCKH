{
 "cells": [
  {
   "cell_type": "code",
   "execution_count": null,
   "metadata": {
    "vscode": {
     "languageId": "plaintext"
    }
   },
   "outputs": [],
   "source": [
    "# Import các thư viện\n",
    "import os\n",
    "import numpy as np\n",
    "import librosa\n",
    "import tensorflow as tf\n",
    "from tensorflow.keras.models import Model\n",
    "from tensorflow.keras.layers import (Input, Dense, GlobalAveragePooling2D, \n",
    "                                     Conv2D, BatchNormalization, Activation, Add, MaxPooling2D)\n",
    "from sklearn.preprocessing import LabelEncoder, StandardScaler\n",
    "from tensorflow.keras.utils import to_categorical"
   ]
  },
  {
   "cell_type": "code",
   "execution_count": null,
   "metadata": {
    "vscode": {
     "languageId": "plaintext"
    }
   },
   "outputs": [],
   "source": [
    "# Hàm trích xuất đặc trưng MFCC\n",
    "def extract_mfcc(audio, sr=16000, n_mfcc=40):\n",
    "    hop_length = int(0.01 * sr)  # 10 ms\n",
    "    win_length = int(0.025 * sr)  # 25 ms\n",
    "    mfcc = librosa.feature.mfcc(y=audio, sr=sr, n_mfcc=n_mfcc, hop_length=hop_length, win_length=win_length)\n",
    "    return mfcc\n",
    "\n",
    "# Hàm load dữ liệu\n",
    "def load_data(data_dir, sr=16000, n_mfcc=40):\n",
    "    X, y = [], []\n",
    "    for label in os.listdir(data_dir):\n",
    "        label_dir = os.path.join(data_dir, label)\n",
    "        if os.path.isdir(label_dir):\n",
    "            for file in os.listdir(label_dir):\n",
    "                if file.endswith('.wav'):\n",
    "                    file_path = os.path.join(label_dir, file)\n",
    "                    audio, _ = librosa.load(file_path, sr=sr)\n",
    "                    mfcc = extract_mfcc(audio, sr, n_mfcc)\n",
    "                    mfcc = np.expand_dims(mfcc, axis=-1)  # Thêm channel dimension\n",
    "                    X.append(mfcc)\n",
    "                    y.append(label)\n",
    "    return np.array(X), np.array(y)"
   ]
  },
  {
   "cell_type": "code",
   "execution_count": null,
   "metadata": {
    "vscode": {
     "languageId": "plaintext"
    }
   },
   "outputs": [],
   "source": [
    "# Hàm xây dựng khối Inception-ResNet\n",
    "def inception_resnet_block(input_tensor, filters, block_type='A'):\n",
    "    if block_type == 'A':\n",
    "        branch1 = Conv2D(filters, (1, 1), padding='same')(input_tensor)\n",
    "        branch1 = BatchNormalization()(branch1)\n",
    "        branch1 = Activation('relu')(branch1)\n",
    "\n",
    "        branch2 = Conv2D(filters, (1, 1), padding='same')(input_tensor)\n",
    "        branch2 = BatchNormalization()(branch2)\n",
    "        branch2 = Activation('relu')(branch2)\n",
    "        branch2 = Conv2D(filters, (3, 3), padding='same')(branch2)\n",
    "        branch2 = BatchNormalization()(branch2)\n",
    "        branch2 = Activation('relu')(branch2)\n",
    "\n",
    "        branches = Add()([branch1, branch2])\n",
    "        branches = Conv2D(filters, (1, 1), padding='same')(branches)\n",
    "        branches = BatchNormalization()(branches)\n",
    "\n",
    "        output_tensor = Add()([input_tensor, branches])  # Residual connection\n",
    "        output_tensor = Activation('relu')(output_tensor)\n",
    "    return output_tensor"
   ]
  },
  {
   "cell_type": "code",
   "execution_count": null,
   "metadata": {
    "vscode": {
     "languageId": "plaintext"
    }
   },
   "outputs": [],
   "source": [
    "# Hàm xây dựng mô hình Inception-ResNet\n",
    "def build_inception_resnet(input_shape, num_classes):\n",
    "    inputs = Input(shape=input_shape)\n",
    "\n",
    "    # Layer đầu tiên\n",
    "    x = Conv2D(32, (3, 3), strides=(2, 2), padding='same')(inputs)\n",
    "    x = BatchNormalization()(x)\n",
    "    x = Activation('relu')(x)\n",
    "    x = MaxPooling2D((3, 3), strides=(2, 2), padding='same')(x)\n",
    "\n",
    "    # Thêm các khối Inception-ResNet\n",
    "    x = inception_resnet_block(x, filters=32, block_type='A')\n",
    "    x = inception_resnet_block(x, filters=64, block_type='A')\n",
    "    x = inception_resnet_block(x, filters=128, block_type='A')\n",
    "\n",
    "    # Global Average Pooling và Dense\n",
    "    x = GlobalAveragePooling2D()(x)\n",
    "    x = Dense(128, activation='relu')(x)\n",
    "    outputs = Dense(num_classes, activation='softmax')(x)\n",
    "\n",
    "    model = Model(inputs, outputs)\n",
    "    model.compile(optimizer='adam', loss='categorical_crossentropy', metrics=['accuracy'])\n",
    "    return model\n",
    "\n",
    "# Load dữ liệu\n",
    "train_dir = r'C:\\Users\\USER\\Downloads\\SV_NCKH_audio_event\\Train'\n",
    "test_dir = r'C:\\Users\\USER\\Downloads\\SV_NCKH_audio_event\\Test'\n",
    "\n",
    "print(\"Loading training data...\")\n",
    "X_train, y_train = load_data(train_dir)\n",
    "print(\"Loading testing data...\")\n",
    "X_test, y_test = load_data(test_dir)"
   ]
  },
  {
   "cell_type": "code",
   "execution_count": null,
   "metadata": {
    "vscode": {
     "languageId": "plaintext"
    }
   },
   "outputs": [],
   "source": [
    "# Chuẩn hóa dữ liệu\n",
    "scaler = StandardScaler()\n",
    "X_train = np.array([scaler.fit_transform(x[:, :, 0]) for x in X_train])  # Normalize MFCC\n",
    "X_test = np.array([scaler.transform(x[:, :, 0]) for x in X_test])\n",
    "\n",
    "# Định dạng lại dữ liệu\n",
    "X_train = np.expand_dims(X_train, axis=-1)\n",
    "X_test = np.expand_dims(X_test, axis=-1)\n",
    "\n",
    "# Encode nhãn\n",
    "le = LabelEncoder()\n",
    "y_train = le.fit_transform(y_train)\n",
    "y_test = le.transform(y_test)\n",
    "\n",
    "# Chuyển nhãn sang dạng one-hot\n",
    "num_classes = len(np.unique(y_train))\n",
    "y_train = to_categorical(y_train, num_classes=num_classes)\n",
    "y_test = to_categorical(y_test, num_classes=num_classes)"
   ]
  },
  {
   "cell_type": "code",
   "execution_count": null,
   "metadata": {
    "vscode": {
     "languageId": "plaintext"
    }
   },
   "outputs": [],
   "source": [
    "# Xây dựng và huấn luyện mô hình\n",
    "input_shape = X_train.shape[1:]  # Input shape\n",
    "model = build_inception_resnet(input_shape, num_classes)\n",
    "\n",
    "print(\"Training Inception-ResNet model...\")\n",
    "history = model.fit(X_train, y_train, validation_data=(X_test, y_test), epochs=30, batch_size=32)\n",
    "\n",
    "# Đánh giá mô hình\n",
    "test_loss, test_acc = model.evaluate(X_test, y_test)\n",
    "print(f\"Test Accuracy: {test_acc:.4f}\")\n",
    "\n",
    "# Hiển thị kiến trúc mô hình\n",
    "model.summary()"
   ]
  }
 ],
 "metadata": {
  "language_info": {
   "name": "python"
  }
 },
 "nbformat": 4,
 "nbformat_minor": 2
}
